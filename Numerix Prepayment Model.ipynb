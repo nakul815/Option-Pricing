{
 "cells": [
  {
   "cell_type": "code",
   "execution_count": 1,
   "metadata": {
    "collapsed": true
   },
   "outputs": [],
   "source": [
    "from numpy import *\n",
    "import matplotlib.pyplot as plt\n",
    "from scipy import optimize\n",
    "import pandas as pd"
   ]
  },
  {
   "cell_type": "markdown",
   "metadata": {},
   "source": [
    "This time, we are going to price a 30-year MBS with a fixed $WAS = 8\\%$ (monthly cash flows starting in January of this year). The Notional Amount of the Loan is $\\$100,000$. The CIR model of interest rates we use is \n",
    "\n",
    "$$\n",
    "dr_t = \\kappa (\\overline{r} - r_t) dt + \\sigma \\sqrt{r_t} dW_t\n",
    "$$\n",
    "with\n",
    "$$\n",
    "r_0 = 0.078, \\kappa = 0.6, \\overline{r} = 0.08, \\sigma =0.12\n",
    "$$"
   ]
  },
  {
   "cell_type": "code",
   "execution_count": 2,
   "metadata": {
    "collapsed": true
   },
   "outputs": [],
   "source": [
    "CIR_param = {'r0': 0.078, 'kappa': 0.6, 'r_bar': 0.08, 'sigma': 0.12}\n",
    "MBS_param = {'WAC': 0.08, 'NAL': 100000, 'T': 30}"
   ]
  },
  {
   "cell_type": "markdown",
   "metadata": {},
   "source": [
    "# P1: Numerix Prepayment Model\n",
    "- To calculate the price of the MBS, we first generate the time series including short interest rates, 10-year spot rates, and discount rates using Monte Carlo Simulation.\n",
    "\n",
    "- Then based on rates we can calculate the present values of the cash flows. The price of the MBS is the sum of these present values."
   ]
  },
  {
   "cell_type": "code",
   "execution_count": 3,
   "metadata": {
    "collapsed": true
   },
   "outputs": [],
   "source": [
    "def CIR_Prepayment_MC(T, simu_paths, **param):\n",
    "    \"\"\"Monte Carlo Simulation of CIR model interest rates for Numerix Prepayment Model\n",
    "    Args:\n",
    "        T (int): The term of the time\n",
    "        simu_paths (int): Path number for Monte Carlo Simulation\n",
    "\n",
    "    Returns:\n",
    "        rt (float matrix): Short term interest rate along the term\n",
    "        r10 (float matrix): 10-year-rate\n",
    "        n (int): number of period of the mortgage\n",
    "        d (float matrix): discount factor for each cash flow along each rate paths evaluated at t = 0\n",
    "    \"\"\"\n",
    "    # CIR model parameters\n",
    "    r0 = param['r0']\n",
    "    sigma = param['sigma']\n",
    "    kappa = param['kappa']\n",
    "    r_bar = param['r_bar']\n",
    "    \n",
    "    dt = 1/12/30 # 1/30 month step\n",
    "    N_time = int(floor(T/dt)) # time grid\n",
    "    \n",
    "    # stochastic part\n",
    "    dW_t = sqrt(dt) * random.standard_normal((N_time, simu_paths))\n",
    "    \n",
    "    # CIR dynamics to calculate short interest rate\n",
    "    r = zeros((N_time, simu_paths))\n",
    "    r[0] = ones(simu_paths) * r0\n",
    "    for i in range(N_time-1):\n",
    "        r[i+1] = r[i] + kappa*(r_bar - r[i])*dt + sigma*sqrt(maximum(r[i],0))*dW_t[i]\n",
    "    \n",
    "    rt = r[0::30] # short rate at the beginning of each period\n",
    "    n = rt.shape[0] # number of periods\n",
    "    \n",
    "    # explicitly calculate 10-year ZCB value using CIR model\n",
    "    T_10 = 10\n",
    "    \n",
    "    # explicit solutions factors\n",
    "    h1 = sqrt(kappa**2 + 2 * sigma**2)\n",
    "    h2 = (kappa + h1) / 2.\n",
    "    h3 = (2 * kappa * r_bar) / sigma**2\n",
    "    \n",
    "    B_10 = (exp(h1 * T_10) - 1) / (h2 * (exp(h1 * T_10) - 1) + h1)\n",
    "    A_10 = ((h1*exp(h2 * T_10)) / (h2 * (exp(h1 * T_10) - 1) + h1))**h3\n",
    "    \n",
    "    P_10 = A_10*exp(-B_10*rt) # 10-year ZCB value at the beginning of each month\n",
    "    \n",
    "    r10 = -0.1 * log(P_10) # annualized spot rate\n",
    "    \n",
    "    R = -dt * cumsum(r, axis = 0)[29::30]\n",
    "    d = exp(R) # path dependent discount factor\n",
    "    \n",
    "    return  rt, r10, n, d"
   ]
  },
  {
   "cell_type": "code",
   "execution_count": 4,
   "metadata": {
    "collapsed": true
   },
   "outputs": [],
   "source": [
    "def MBS_Numerix_Prepayment(simu_paths, CIR_param, MBS_param):\n",
    "    \"\"\"MBS Pricing using Monte Carlo Simulation of CIR model interest rates for Numerix Prepayment Model\n",
    "    Args:\n",
    "        simu_paths (int): Path number for Monte Carlo Simulation\n",
    "        CIR_param (packed list): CIR model dynamics parameters\n",
    "            taking: r0, r_bar, kappa, sigma\n",
    "        MBS_param (packed list): MBS parameters\n",
    "            taking: T, WAC, NAL\n",
    "    Returns:\n",
    "        price (float): price of the MBS at time t = 0\n",
    "    \"\"\"\n",
    "    R = MBS_param['WAC'] # Weighted-average Characteristic\n",
    "    NAL = MBS_param['NAL'] # Notional Amount of Loan\n",
    "    T = MBS_param['T'] # Maturity of Loan\n",
    "    \n",
    "    (rt, r10, n, d) = CIR_Prepayment_MC(T, simu_paths, **CIR_param)\n",
    "    \n",
    "    CPR, BU, SG, SP, IP, PP, MP, TPP, c, dc, dIP, dTPP = [zeros_like(rt) for _ in range(12)]\n",
    "\n",
    "    r = R / 12. # monthly rate\n",
    "    SY_annual_unit = [.94, .76, 0.74, .95, .98, .92, .98, 1.1, 1.18, 1.22, 1.23, .98]\n",
    "    SY = repeat(tile(SY_annual_unit, (1, T)), simu_paths, axis = 0).transpose()\n",
    "    RI = 0.28 + 0.14 * arctan(-8.57 + 430*(R - r10))\n",
    "\n",
    "    PV = zeros((n+1, simu_paths))\n",
    "    PV_0 = NAL * ones(simu_paths)\n",
    "    PV[0] = PV_0\n",
    "\n",
    "    for i in range(n):\n",
    "        BU[i] = 0.3 + 0.7 * PV[i] / PV_0\n",
    "        \n",
    "        SG[i] = minimum(1, (i+1)/30)\n",
    "\n",
    "        CPR[i] = RI[i] * BU[i] * SG[i] * SY[i]\n",
    "\n",
    "        IP[i] = PV[i] * r\n",
    "\n",
    "        MP[i] = IP[i] / (1 - (1 + r)**(i - n))\n",
    "\n",
    "        SP[i] = MP[i] - IP[i]\n",
    "\n",
    "        PP[i] = (PV[i] - SP[i])*(1 - (1 - CPR[i])**(1/12))\n",
    "\n",
    "        TPP[i] = SP[i] + PP[i]\n",
    "\n",
    "        c[i] = MP[i] + PP[i]\n",
    "\n",
    "        dc[i] = c[i] * d[i]\n",
    "        \n",
    "        dIP[i] = IP[i] * d[i]\n",
    "        \n",
    "        dTPP[i] = TPP[i] * d[i]\n",
    "\n",
    "        PV[i+1] = PV[i] - TPP[i]\n",
    "\n",
    "    price = mean(sum(dc, axis = 0))\n",
    "    d_IO_PO = (dIP, dTPP)\n",
    "    return price, dc, d_IO_PO"
   ]
  },
  {
   "cell_type": "markdown",
   "metadata": {},
   "source": [
    "## (a) Price of the MBS using Numerix Prepayment Model\n",
    "* Input: \n",
    "    * Simulation Paths Numbers\n",
    "    * CIR Model Parameters\n",
    "        * $r_0, \\kappa, \\overline{r}, \\sigma$\n",
    "    * MBS Parameters\n",
    "        * T, WAC, Notional Amount of the Load (NAL)\n",
    "* Output:\n",
    "    * Price of the MBS\n",
    "    * Discounted Cash Flows (along all paths)\n",
    "    * Discounted Cash Flows from IO and PO tranches"
   ]
  },
  {
   "cell_type": "code",
   "execution_count": 5,
   "metadata": {},
   "outputs": [
    {
     "name": "stdout",
     "output_type": "stream",
     "text": [
      "The price of the MBS is 100845.719940\n"
     ]
    }
   ],
   "source": [
    "price1a,_,_ = MBS_Numerix_Prepayment(10000, CIR_param, MBS_param)\n",
    "print('The price of the MBS is {p:f}'.format(p = price1a))"
   ]
  },
  {
   "cell_type": "markdown",
   "metadata": {},
   "source": [
    "As we are using path-dependent discount factor and cashflows, the price of the MBS is volatile in that the timing of prepayment has significant effect on the cash flows."
   ]
  },
  {
   "cell_type": "markdown",
   "metadata": {},
   "source": [
    "## (b) Price of the MBS with $\\kappa$ in 0.3 to 0.9 (increments of 0.1)"
   ]
  },
  {
   "cell_type": "code",
   "execution_count": 6,
   "metadata": {
    "collapsed": true
   },
   "outputs": [],
   "source": [
    "kappa = arange(0.3, 0.9+0.1, 0.1)\n",
    "def P1b(kappa, simu_paths, MBS_param):\n",
    "    \n",
    "    prices = zeros_like(kappa)\n",
    "    for index, k_ in enumerate(kappa):\n",
    "        para = {'r0': 0.078, 'kappa': k_, 'r_bar': 0.08, 'sigma': 0.12}\n",
    "        prices[index],_,_ = MBS_Numerix_Prepayment(simu_paths, para, MBS_param)\n",
    "    return prices"
   ]
  },
  {
   "cell_type": "code",
   "execution_count": 7,
   "metadata": {},
   "outputs": [
    {
     "data": {
      "image/png": "[encoded data removed]",
      "text/plain": [
       "<matplotlib.figure.Figure at 0x11b81b668>"
      ]
     },
     "metadata": {},
     "output_type": "display_data"
    }
   ],
   "source": [
    "price1b = P1b(kappa, 10000, MBS_param)\n",
    "\n",
    "plt.figure(figsize=(10, 8))\n",
    "plt.plot(kappa, price1b)\n",
    "plt.title('MBS Price vs. $\\kappa$')\n",
    "plt.xlabel('$\\kappa$')\n",
    "plt.ylabel('Price [$]')\n",
    "plt.grid()\n",
    "plt.show()"
   ]
  },
  {
   "cell_type": "code",
   "execution_count": 8,
   "metadata": {},
   "outputs": [
    {
     "data": {
      "text/html": [
       "<div>\n",
       "<style scoped>\n",
       "    .dataframe tbody tr th:only-of-type {\n",
       "        vertical-align: middle;\n",
       "    }\n",
       "\n",
       "    .dataframe tbody tr th {\n",
       "        vertical-align: top;\n",
       "    }\n",
       "\n",
       "    .dataframe thead th {\n",
       "        text-align: right;\n",
       "    }\n",
       "</style>\n",
       "<table border=\"1\" class=\"dataframe\">\n",
       "  <thead>\n",
       "    <tr style=\"text-align: right;\">\n",
       "      <th></th>\n",
       "      <th>kappa</th>\n",
       "      <th>price</th>\n",
       "    </tr>\n",
       "  </thead>\n",
       "  <tbody>\n",
       "    <tr>\n",
       "      <th>0</th>\n",
       "      <td>0.3</td>\n",
       "      <td>100965.849446</td>\n",
       "    </tr>\n",
       "    <tr>\n",
       "      <th>1</th>\n",
       "      <td>0.4</td>\n",
       "      <td>101141.107969</td>\n",
       "    </tr>\n",
       "    <tr>\n",
       "      <th>2</th>\n",
       "      <td>0.5</td>\n",
       "      <td>101229.303862</td>\n",
       "    </tr>\n",
       "    <tr>\n",
       "      <th>3</th>\n",
       "      <td>0.6</td>\n",
       "      <td>100720.661059</td>\n",
       "    </tr>\n",
       "    <tr>\n",
       "      <th>4</th>\n",
       "      <td>0.7</td>\n",
       "      <td>100589.995443</td>\n",
       "    </tr>\n",
       "    <tr>\n",
       "      <th>5</th>\n",
       "      <td>0.8</td>\n",
       "      <td>100463.217033</td>\n",
       "    </tr>\n",
       "    <tr>\n",
       "      <th>6</th>\n",
       "      <td>0.9</td>\n",
       "      <td>100354.519426</td>\n",
       "    </tr>\n",
       "  </tbody>\n",
       "</table>\n",
       "</div>"
      ],
      "text/plain": [
       "   kappa          price\n",
       "0    0.3  100965.849446\n",
       "1    0.4  101141.107969\n",
       "2    0.5  101229.303862\n",
       "3    0.6  100720.661059\n",
       "4    0.7  100589.995443\n",
       "5    0.8  100463.217033\n",
       "6    0.9  100354.519426"
      ]
     },
     "execution_count": 8,
     "metadata": {},
     "output_type": "execute_result"
    }
   ],
   "source": [
    "df_1b = {'kappa':kappa, 'price': price1b}\n",
    "df_price1b = pd.DataFrame(data = df_1b)\n",
    "df_price1b"
   ]
  },
  {
   "cell_type": "markdown",
   "metadata": {},
   "source": [
    "As we discussed previously, the kinked plot indicates that different prepayment timing along each interest rate path has significant effect on the simulated price of MBS. If we raise the path number to even larger scales, it is feasible to get more accurate answers."
   ]
  },
  {
   "cell_type": "markdown",
   "metadata": {},
   "source": [
    "## (c) Price of MBS with $\\overline{r}$ in 0.03 to 0.09 (increments of 0.01)"
   ]
  },
  {
   "cell_type": "code",
   "execution_count": 9,
   "metadata": {
    "collapsed": true
   },
   "outputs": [],
   "source": [
    "r_bar = arange(0.03, 0.09+0.01, 0.01)\n",
    "def P1c(r_bar, simu_paths, MBS_param):\n",
    "    \n",
    "    prices = zeros_like(r_bar)\n",
    "    for index, r_ in enumerate(r_bar):\n",
    "        para = {'r0': 0.078, 'kappa': 0.6, 'r_bar': r_, 'sigma': 0.12}\n",
    "        prices[index],_,_ = MBS_Numerix_Prepayment(simu_paths, para, MBS_param)\n",
    "    return prices"
   ]
  },
  {
   "cell_type": "code",
   "execution_count": 10,
   "metadata": {},
   "outputs": [
    {
     "data": {
      "image/png": "[encoded data removed]",
      "text/plain": [
       "<matplotlib.figure.Figure at 0x11fa8ebe0>"
      ]
     },
     "metadata": {},
     "output_type": "display_data"
    }
   ],
   "source": [
    "price1c = P1c(r_bar, 10000, MBS_param)\n",
    "plt.figure(figsize=(10, 8))\n",
    "plt.plot(r_bar, price1c)\n",
    "plt.title('MBS Price vs. $\\overline{r}$')\n",
    "plt.xlabel('$\\overline{r}$')\n",
    "plt.ylabel('Price [$]')\n",
    "plt.grid()\n",
    "plt.show()"
   ]
  },
  {
   "cell_type": "code",
   "execution_count": 11,
   "metadata": {},
   "outputs": [
    {
     "data": {
      "text/html": [
       "<div>\n",
       "<style scoped>\n",
       "    .dataframe tbody tr th:only-of-type {\n",
       "        vertical-align: middle;\n",
       "    }\n",
       "\n",
       "    .dataframe tbody tr th {\n",
       "        vertical-align: top;\n",
       "    }\n",
       "\n",
       "    .dataframe thead th {\n",
       "        text-align: right;\n",
       "    }\n",
       "</style>\n",
       "<table border=\"1\" class=\"dataframe\">\n",
       "  <thead>\n",
       "    <tr style=\"text-align: right;\">\n",
       "      <th></th>\n",
       "      <th>price</th>\n",
       "      <th>r_bar</th>\n",
       "    </tr>\n",
       "  </thead>\n",
       "  <tbody>\n",
       "    <tr>\n",
       "      <th>0</th>\n",
       "      <td>111401.403459</td>\n",
       "      <td>0.03</td>\n",
       "    </tr>\n",
       "    <tr>\n",
       "      <th>1</th>\n",
       "      <td>108993.337624</td>\n",
       "      <td>0.04</td>\n",
       "    </tr>\n",
       "    <tr>\n",
       "      <th>2</th>\n",
       "      <td>106842.171897</td>\n",
       "      <td>0.05</td>\n",
       "    </tr>\n",
       "    <tr>\n",
       "      <th>3</th>\n",
       "      <td>105679.633338</td>\n",
       "      <td>0.06</td>\n",
       "    </tr>\n",
       "    <tr>\n",
       "      <th>4</th>\n",
       "      <td>105490.472405</td>\n",
       "      <td>0.07</td>\n",
       "    </tr>\n",
       "    <tr>\n",
       "      <th>5</th>\n",
       "      <td>100913.962244</td>\n",
       "      <td>0.08</td>\n",
       "    </tr>\n",
       "    <tr>\n",
       "      <th>6</th>\n",
       "      <td>95643.931011</td>\n",
       "      <td>0.09</td>\n",
       "    </tr>\n",
       "  </tbody>\n",
       "</table>\n",
       "</div>"
      ],
      "text/plain": [
       "           price  r_bar\n",
       "0  111401.403459   0.03\n",
       "1  108993.337624   0.04\n",
       "2  106842.171897   0.05\n",
       "3  105679.633338   0.06\n",
       "4  105490.472405   0.07\n",
       "5  100913.962244   0.08\n",
       "6   95643.931011   0.09"
      ]
     },
     "execution_count": 11,
     "metadata": {},
     "output_type": "execute_result"
    }
   ],
   "source": [
    "df_1c = {'r_bar':r_bar, 'price': price1c}\n",
    "df_price1c = pd.DataFrame(data = df_1c)\n",
    "df_price1c"
   ]
  },
  {
   "cell_type": "markdown",
   "metadata": {},
   "source": [
    "# P2: Public Securities Association's (PSA) Model of Prepayment\n",
    "- To calculate the price of the MBS, we first generate the time series for discount rates using Monte Carlo Simulation.\n",
    "\n",
    "- Then based on discount rates we can calculate the present values of the cash flows. The price of the MBS is the sum of these present values."
   ]
  },
  {
   "cell_type": "code",
   "execution_count": 12,
   "metadata": {
    "collapsed": true
   },
   "outputs": [],
   "source": [
    "def MBS_PSA_Prepayment(simu_paths, CIR_param, MBS_param):\n",
    "    \"\"\"MBS Pricing using Monte Carlo Simulation of CIR model interest rates for PSA Prepayment Model\n",
    "    Args:\n",
    "        simu_paths (int): Path number for Monte Carlo Simulation\n",
    "        CIR_param (packed list): CIR model dynamics parameters\n",
    "            taking: r0, r_bar, kappa, sigma\n",
    "        MBS_param (packed list): MBS parameters\n",
    "            taking: T, WAC, NAL\n",
    "    Returns:\n",
    "        price (float): price of the MBS at time t = 0\n",
    "    \"\"\"\n",
    "    R = MBS_param['WAC'] # Weighted-average Characteristic\n",
    "    NAL = MBS_param['NAL'] # Notional Amount of Loan\n",
    "    T = MBS_param['T'] # Maturity of Loan\n",
    "    \n",
    "    (_, _, n, d) = CIR_Prepayment_MC(T, simu_paths, **CIR_param)\n",
    "    \n",
    "    SP, IP, PP, MP, TPP, c, dc = [zeros((n, simu_paths)) for _ in range(7)]\n",
    "\n",
    "    r = R / 12. # monthly rate\n",
    "\n",
    "    PV, CPR = [zeros((n+1, simu_paths)) for _ in range(2)]\n",
    "    PV_0 = NAL * ones(simu_paths)\n",
    "    PV[0] = PV_0\n",
    "    CPR_0 = zeros(simu_paths)\n",
    "    CPR[0] = CPR_0\n",
    "    \n",
    "    for i in range(n):\n",
    "        if i <= 29:\n",
    "            CPR[i+1] = CPR[i] + 0.002\n",
    "        else:\n",
    "            CPR[i+1] = CPR[i]\n",
    "\n",
    "        IP[i] = PV[i] * r\n",
    "\n",
    "        MP[i] = IP[i] / (1 - (1 + r)**(i - n))\n",
    "\n",
    "        SP[i] = MP[i] - IP[i]\n",
    "\n",
    "        PP[i] = (PV[i] - SP[i])*(1 - (1 - CPR[i+1])**(1/12))\n",
    "\n",
    "        TPP[i] = SP[i] + PP[i]\n",
    "\n",
    "        c[i] = MP[i] + PP[i]\n",
    "\n",
    "        dc[i] = c[i] * d[i]\n",
    "\n",
    "        PV[i+1] = PV[i] - TPP[i]\n",
    "\n",
    "    price = mean(sum(dc, axis = 0))\n",
    "    return price"
   ]
  },
  {
   "cell_type": "markdown",
   "metadata": {},
   "source": [
    "## (a) Price of MBS using PSA Model of prepayments\n",
    "* Input: \n",
    "    * Simulation Paths Numbers\n",
    "    * CIR Model Parameters\n",
    "        * $r_0, \\kappa, \\overline{r}, \\sigma$\n",
    "    * MBS Parameters\n",
    "        * T, WAC, Notional Amount of the Load (NAL)\n",
    "* Output:\n",
    "    * Price of the MBS"
   ]
  },
  {
   "cell_type": "code",
   "execution_count": 24,
   "metadata": {},
   "outputs": [
    {
     "name": "stdout",
     "output_type": "stream",
     "text": [
      "The price of the MBS using the PSA model is 100789.676409\n"
     ]
    }
   ],
   "source": [
    "price2a = MBS_PSA_Prepayment(10000, CIR_param, MBS_param)\n",
    "print('The price of the MBS using the PSA model is {p2:f}'.format(p2 = price2a))"
   ]
  },
  {
   "cell_type": "markdown",
   "metadata": {},
   "source": [
    "## (b) Price of MBS with $\\kappa$ ranging from 0.3 to 0.9 (in increments of 0.1)"
   ]
  },
  {
   "cell_type": "code",
   "execution_count": 14,
   "metadata": {
    "collapsed": true
   },
   "outputs": [],
   "source": [
    "def P2b(kappa, simu_paths, MBS_param):\n",
    "    \n",
    "    prices = zeros_like(kappa)\n",
    "    for index, k_ in enumerate(kappa):\n",
    "        para = {'r0': 0.078, 'kappa': k_, 'r_bar': 0.08, 'sigma': 0.12}\n",
    "        prices[index] = MBS_PSA_Prepayment(simu_paths, para, MBS_param)\n",
    "    return prices"
   ]
  },
  {
   "cell_type": "code",
   "execution_count": 15,
   "metadata": {},
   "outputs": [
    {
     "data": {
      "image/png": "[encoded data removed]",
      "text/plain": [
       "<matplotlib.figure.Figure at 0x121bfa278>"
      ]
     },
     "metadata": {},
     "output_type": "display_data"
    }
   ],
   "source": [
    "price2b = P2b(kappa, 10000, MBS_param)\n",
    "plt.figure(figsize=(10, 8))\n",
    "plt.plot(kappa, price2b)\n",
    "plt.title('MBS Price vs. $\\kappa$')\n",
    "plt.xlabel('$\\kappa$')\n",
    "plt.ylabel('Price [$]')\n",
    "plt.grid()\n",
    "plt.show()"
   ]
  },
  {
   "cell_type": "code",
   "execution_count": 16,
   "metadata": {},
   "outputs": [
    {
     "data": {
      "text/html": [
       "<div>\n",
       "<style scoped>\n",
       "    .dataframe tbody tr th:only-of-type {\n",
       "        vertical-align: middle;\n",
       "    }\n",
       "\n",
       "    .dataframe tbody tr th {\n",
       "        vertical-align: top;\n",
       "    }\n",
       "\n",
       "    .dataframe thead th {\n",
       "        text-align: right;\n",
       "    }\n",
       "</style>\n",
       "<table border=\"1\" class=\"dataframe\">\n",
       "  <thead>\n",
       "    <tr style=\"text-align: right;\">\n",
       "      <th></th>\n",
       "      <th>kappa</th>\n",
       "      <th>price</th>\n",
       "    </tr>\n",
       "  </thead>\n",
       "  <tbody>\n",
       "    <tr>\n",
       "      <th>0</th>\n",
       "      <td>0.3</td>\n",
       "      <td>102498.623699</td>\n",
       "    </tr>\n",
       "    <tr>\n",
       "      <th>1</th>\n",
       "      <td>0.4</td>\n",
       "      <td>101659.807275</td>\n",
       "    </tr>\n",
       "    <tr>\n",
       "      <th>2</th>\n",
       "      <td>0.5</td>\n",
       "      <td>101000.908934</td>\n",
       "    </tr>\n",
       "    <tr>\n",
       "      <th>3</th>\n",
       "      <td>0.6</td>\n",
       "      <td>100953.126771</td>\n",
       "    </tr>\n",
       "    <tr>\n",
       "      <th>4</th>\n",
       "      <td>0.7</td>\n",
       "      <td>100608.734613</td>\n",
       "    </tr>\n",
       "    <tr>\n",
       "      <th>5</th>\n",
       "      <td>0.8</td>\n",
       "      <td>100565.781915</td>\n",
       "    </tr>\n",
       "    <tr>\n",
       "      <th>6</th>\n",
       "      <td>0.9</td>\n",
       "      <td>100468.044798</td>\n",
       "    </tr>\n",
       "  </tbody>\n",
       "</table>\n",
       "</div>"
      ],
      "text/plain": [
       "   kappa          price\n",
       "0    0.3  102498.623699\n",
       "1    0.4  101659.807275\n",
       "2    0.5  101000.908934\n",
       "3    0.6  100953.126771\n",
       "4    0.7  100608.734613\n",
       "5    0.8  100565.781915\n",
       "6    0.9  100468.044798"
      ]
     },
     "execution_count": 16,
     "metadata": {},
     "output_type": "execute_result"
    }
   ],
   "source": [
    "df_2b = {'kappa':kappa, 'price': price2b}\n",
    "df_price2b = pd.DataFrame(data = df_2b)\n",
    "df_price2b"
   ]
  },
  {
   "cell_type": "markdown",
   "metadata": {},
   "source": [
    "# P3: Option-Adjusted-Spread (OAS) for Numerix-Prepayment Model with Market PRice of MBS being \\$ 110,000\n",
    "* Input: \n",
    "    * Market Price of the MBS\n",
    "    * Simulation Paths Numbers\n",
    "    * CIR Model Parameters\n",
    "        * $r_0, \\kappa, \\overline{r}, \\sigma$\n",
    "    * MBS Parameters\n",
    "        * T, WAC, Notional Amount of the Load (NAL)\n",
    "* Output:\n",
    "    * OAS of the MBS"
   ]
  },
  {
   "cell_type": "code",
   "execution_count": 17,
   "metadata": {
    "collapsed": true
   },
   "outputs": [],
   "source": [
    "def OAS_Numerix_Prepayment(mkt_price, simu_paths, CIR_param, MBS_param):\n",
    "    \"\"\"Option-Adjusted-SPread (OAS) for Numerix-Prepayment model\n",
    "    Args:\n",
    "        mkt_price (float): Current Market Price of the MBS\n",
    "        simu_paths (int): Path number for Monte Carlo Simulation\n",
    "        CIR_param (packed list): CIR model dynamics parameters\n",
    "            taking: r0, r_bar, kappa, sigma\n",
    "        MBS_param (packed list): MBS parameters\n",
    "            taking: T, WAC, NAL\n",
    "    Returns:\n",
    "        root (float): OAS of the MBS\n",
    "        ds (float): discounted cash flows for all paths\n",
    "    \"\"\"\n",
    "    _,dc,_ = MBS_Numerix_Prepayment(simu_paths, CIR_param, MBS_param)\n",
    "    \n",
    "    (n, M) = dc.shape # grid dimension\n",
    "    t = arange(1, n+1, 1) / 12.\n",
    "    tt = repeat(t.reshape((n, 1)), M, axis = 1) # broadcast time grid to each path\n",
    "    \n",
    "    def OAS(x):\n",
    "        K = exp(-x*tt) * dc\n",
    "        return mean(sum(K, axis = 0)) - mkt_price\n",
    "    \n",
    "    root = optimize.newton(OAS, 0)\n",
    "    return root, dc"
   ]
  },
  {
   "cell_type": "code",
   "execution_count": 18,
   "metadata": {},
   "outputs": [
    {
     "name": "stdout",
     "output_type": "stream",
     "text": [
      "The Option-Adjusted-Spread (OAS) for the Numerix-Prepayment model case\n",
      " with Market Price of MBS being $ 110,000 is -0.012832.\n"
     ]
    }
   ],
   "source": [
    "p3, dc3 = OAS_Numerix_Prepayment(110000, 10000, CIR_param, MBS_param)\n",
    "print('The Option-Adjusted-Spread (OAS) for the Numerix-Prepayment model case\\n with Market Price of MBS being $ 110,000 is {p:f}.'.format(p=p3))"
   ]
  },
  {
   "cell_type": "markdown",
   "metadata": {},
   "source": [
    "# P4: OAS_adjusted Duration and Convexity of the MBS in previous section\n",
    "* Input: \n",
    "    * x (float): OAS of the MBS\n",
    "    * y (float): change value of OAS [in bps]\n",
    "    * mkt_price (float): market price of the MBS\n",
    "    * dc (float): discounted cash flows\n",
    "* Output:\n",
    "    * duration, convexity (float):OAS-adjusted duration and convexity"
   ]
  },
  {
   "cell_type": "code",
   "execution_count": 19,
   "metadata": {
    "collapsed": true
   },
   "outputs": [],
   "source": [
    "def OAS_Duration_Convexity(x, y, mkt_price, dc):\n",
    "    \"\"\"OAS-adjusted Duration and Convexity for Numerix-Prepayment model in previous section\n",
    "    Args:\n",
    "        x (float): OAS of the MBS\n",
    "        y (float): change value of OAS [in bps]\n",
    "        mkt_price (float): market price of the MBS\n",
    "        dc (float): discounted cash flows\n",
    "    Returns:\n",
    "        OAS-adjusted duration and convexity\n",
    "    \"\"\"\n",
    "    oas_plus = x + y\n",
    "    oas_minus = x - y\n",
    "    \n",
    "    (n, M) = dc.shape\n",
    "    \n",
    "    # broadcast the time grid to each path\n",
    "    t = arange(1, n+1, 1) / 12.\n",
    "    tt = repeat(t.reshape((n, 1)), M, axis = 1)\n",
    "    \n",
    "    # new price\n",
    "    p_plus = mean(sum(dc*exp(-oas_plus*tt), axis = 0))\n",
    "    p_minus = mean(sum(dc*exp(-oas_minus*tt), axis = 0))\n",
    "    p_0 = mkt_price\n",
    "    \n",
    "    duration = (p_minus - p_plus)/(2*y*p_0)\n",
    "    convexity = (p_plus + p_minus - 2*p_0) / (2*p_0*y**2)\n",
    "    return duration, convexity"
   ]
  },
  {
   "cell_type": "code",
   "execution_count": 25,
   "metadata": {},
   "outputs": [
    {
     "name": "stdout",
     "output_type": "stream",
     "text": [
      "The OAS-adjusted duration is 7.214100, and the convexity is 45.759503\n"
     ]
    }
   ],
   "source": [
    "(p4_D, p4_C) = OAS_Duration_Convexity(p3, 0.0005, 110000, dc3)\n",
    "print('The OAS-adjusted duration is {d:f}, and the convexity is {c:f}'.format(d = p4_D, c = p4_C))"
   ]
  },
  {
   "cell_type": "markdown",
   "metadata": {},
   "source": [
    "# P5: Price the IO and PO tranches for the MBS above using Numerix Prepayment Model with $\\overline{r}$ in 0.03 to 0.09 range"
   ]
  },
  {
   "cell_type": "code",
   "execution_count": 21,
   "metadata": {
    "collapsed": true
   },
   "outputs": [],
   "source": [
    "def p5(r_bar, simu_paths, MBS_param):\n",
    "    \n",
    "    prices_IO, prices_PO = [zeros_like(r_bar) for _ in range(2)]\n",
    "    \n",
    "    for index, r_ in enumerate(r_bar):\n",
    "        \n",
    "        para = {'r0': 0.078, 'kappa': 0.6, 'r_bar': r_, 'sigma': 0.12}\n",
    "        \n",
    "        _,_,(IO, PO) = MBS_Numerix_Prepayment(simu_paths, para, MBS_param)\n",
    "    \n",
    "        prices_IO[index] = mean(sum(IO, axis = 0))\n",
    "        prices_PO[index] = mean(sum(PO, axis = 0))\n",
    "    \n",
    "    return prices_IO, prices_PO"
   ]
  },
  {
   "cell_type": "code",
   "execution_count": 22,
   "metadata": {},
   "outputs": [
    {
     "data": {
      "image/png": "[encoded data removed]",
      "text/plain": [
       "<matplotlib.figure.Figure at 0x11fff57f0>"
      ]
     },
     "metadata": {},
     "output_type": "display_data"
    }
   ],
   "source": [
    "(p5IO, p5PO) = p5(r_bar, 10000, MBS_param)\n",
    "plt.figure(figsize=(10, 8))\n",
    "plt.plot(r_bar, p5IO, r_bar, p5PO)\n",
    "plt.title('IO, PO Tranches Prices vs. $\\overline{r}$')\n",
    "plt.xlabel('$\\overline{r}$')\n",
    "plt.ylabel('Price [$]')\n",
    "plt.legend(['IO', 'PO'])\n",
    "plt.grid()\n",
    "plt.show()"
   ]
  },
  {
   "cell_type": "code",
   "execution_count": 23,
   "metadata": {},
   "outputs": [
    {
     "data": {
      "text/html": [
       "<div>\n",
       "<style scoped>\n",
       "    .dataframe tbody tr th:only-of-type {\n",
       "        vertical-align: middle;\n",
       "    }\n",
       "\n",
       "    .dataframe tbody tr th {\n",
       "        vertical-align: top;\n",
       "    }\n",
       "\n",
       "    .dataframe thead th {\n",
       "        text-align: right;\n",
       "    }\n",
       "</style>\n",
       "<table border=\"1\" class=\"dataframe\">\n",
       "  <thead>\n",
       "    <tr style=\"text-align: right;\">\n",
       "      <th></th>\n",
       "      <th>IO tranches price</th>\n",
       "      <th>PO tranches price</th>\n",
       "      <th>r_bar</th>\n",
       "    </tr>\n",
       "  </thead>\n",
       "  <tbody>\n",
       "    <tr>\n",
       "      <th>0</th>\n",
       "      <td>27217.508356</td>\n",
       "      <td>84251.461422</td>\n",
       "      <td>0.03</td>\n",
       "    </tr>\n",
       "    <tr>\n",
       "      <th>1</th>\n",
       "      <td>26845.916285</td>\n",
       "      <td>82217.858815</td>\n",
       "      <td>0.04</td>\n",
       "    </tr>\n",
       "    <tr>\n",
       "      <th>2</th>\n",
       "      <td>27199.129707</td>\n",
       "      <td>79562.870550</td>\n",
       "      <td>0.05</td>\n",
       "    </tr>\n",
       "    <tr>\n",
       "      <th>3</th>\n",
       "      <td>33832.363840</td>\n",
       "      <td>71672.824513</td>\n",
       "      <td>0.06</td>\n",
       "    </tr>\n",
       "    <tr>\n",
       "      <th>4</th>\n",
       "      <td>51168.235783</td>\n",
       "      <td>54366.216848</td>\n",
       "      <td>0.07</td>\n",
       "    </tr>\n",
       "    <tr>\n",
       "      <th>5</th>\n",
       "      <td>53643.965549</td>\n",
       "      <td>47152.867173</td>\n",
       "      <td>0.08</td>\n",
       "    </tr>\n",
       "    <tr>\n",
       "      <th>6</th>\n",
       "      <td>52373.425688</td>\n",
       "      <td>43102.840770</td>\n",
       "      <td>0.09</td>\n",
       "    </tr>\n",
       "  </tbody>\n",
       "</table>\n",
       "</div>"
      ],
      "text/plain": [
       "   IO tranches price  PO tranches price  r_bar\n",
       "0       27217.508356       84251.461422   0.03\n",
       "1       26845.916285       82217.858815   0.04\n",
       "2       27199.129707       79562.870550   0.05\n",
       "3       33832.363840       71672.824513   0.06\n",
       "4       51168.235783       54366.216848   0.07\n",
       "5       53643.965549       47152.867173   0.08\n",
       "6       52373.425688       43102.840770   0.09"
      ]
     },
     "execution_count": 23,
     "metadata": {},
     "output_type": "execute_result"
    }
   ],
   "source": [
    "df_5 = {'r_bar':r_bar, 'IO tranches price': p5IO, 'PO tranches price': p5PO}\n",
    "df_price5 = pd.DataFrame(data = df_5)\n",
    "df_price5"
   ]
  }
 ],
 "metadata": {
  "kernelspec": {
   "display_name": "Python 3",
   "language": "python",
   "name": "python3"
  },
  "language_info": {
   "codemirror_mode": {
    "name": "ipython",
    "version": 3
   },
   "file_extension": ".py",
   "mimetype": "text/x-python",
   "name": "python",
   "nbconvert_exporter": "python",
   "pygments_lexer": "ipython3",
   "version": "3.6.4"
  }
 },
 "nbformat": 4,
 "nbformat_minor": 2
}
